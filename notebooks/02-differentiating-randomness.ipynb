{
 "cells": [
  {
   "cell_type": "code",
   "execution_count": 43,
   "metadata": {},
   "outputs": [],
   "source": [
    "import torch\n",
    "import numpy as np\n",
    "import matplotlib.pyplot as plt\n",
    "import random"
   ]
  },
  {
   "cell_type": "markdown",
   "metadata": {},
   "source": [
    "# Differentiating through randomness\n",
    "\n",
    "## Fixed noise distribution\n",
    "\n",
    "In the previous notebook (01-automatic-differentiation) we covered the basics of automatic differentiation (AD). However, we left a particular topic untouched. How can we compute the derivative of stochastic programs, and what does that mean, exactly?\n",
    "\n",
    "Consider the following program with parameter $\\theta$\n",
    "\n",
    "$$\n",
    "\n",
    "\\begin{align}\n",
    "    z &\\sim \\mathcal N(1, 2) \\\\\n",
    "    y &= \\theta^2(z+4)\n",
    "\\end{align}\n",
    "\n",
    "$$\n",
    "\n",
    "where $\\mathcal N$ is the Normal distribution. This can be coded as:"
   ]
  },
  {
   "cell_type": "code",
   "execution_count": 93,
   "metadata": {},
   "outputs": [],
   "source": [
    "def f(theta):\n",
    "    z = np.random.normal(1, 2)\n",
    "    return theta**2 * (z + 4)"
   ]
  },
  {
   "cell_type": "markdown",
   "metadata": {},
   "source": [
    "So, what does it mean to compute\n",
    "\n",
    "$$\n",
    "\\frac{\\partial f(\\theta)}{\\partial \\theta} =  \\; ?\n",
    "$$\n",
    "\n",
    "If we think about the definition of derivative,\n",
    "\n",
    "$$\n",
    "\\frac{\\partial X(\\theta)}{\\partial \\theta} =  \\lim_{\\epsilon \\to 0} \\frac{X(\\theta+\\epsilon) - X(\\theta)}{\\epsilon}.\n",
    "$$\n",
    "\n",
    "we can observe that this derivative is not well defined since the difference $X(\\theta+\\epsilon) - X(\\theta)$ will take random values and it is not clear how to treat this limit.\n",
    "\n",
    "However, in most cases, we are actually interested in the derivative of an **average** model realization, not just the derivative of a single run. In other words, we want to take gradients of the form\n",
    "\n",
    "$$\n",
    "\\mathbb E_{p(z)} [f_\\theta(z)],\n",
    "$$\n",
    "\n",
    "where $p$ is a probability density and $f$ is a (deterministic) simulator with structural parameters $\\theta$. Taking the derivative we have\n",
    "\n",
    "$$\n",
    "\\begin{align}\n",
    "    \\nabla_\\theta \\mathbb E_{p(z)}\\;\\left[f_\\theta(z)\\right] &= \\nabla_\\theta\\left[\\int_z p(z) f_\\theta(z)\\mathrm{d}z\\right]\\\\\n",
    "                                                             &=  \\int_z p(z)\\left[\\nabla_\\theta f_\\theta(z)\\right]\\mathrm{d} z \\\\\n",
    "                                                             &= \\mathbb E_{p(z)}[\\nabla_\\theta f_\\theta(z)]\n",
    "\\end{align}\n",
    "$$\n",
    "\n",
    "so that the gradient of the expectation is the expectation of the gradient.\n",
    "\n",
    "In our considered example, this translates to\n",
    "\n",
    "$$\n",
    "\\mathbb E_{z \\sim \\mathcal N(1, 2)}\\;\\left[\\theta^2(z+4)\\right]\n",
    "$$\n",
    "\n",
    "now we can take the derivative\n",
    "\n",
    "$$\n",
    "\\nabla_\\theta \\mathbb E_{z \\sim \\mathcal N(1, 2)}\\;\\left[\\theta(z+4)\\right] = \\mathbb E_{z\\sim \\mathcal N(1,2)} \\left[\\nabla_\\theta \\theta^2(z+4)\\right] = 10\\, \\theta\n",
    "$$\n",
    "\n",
    "Let's check this result numerically and see the troubles we find."
   ]
  },
  {
   "cell_type": "code",
   "execution_count": 109,
   "metadata": {},
   "outputs": [],
   "source": [
    "theta = 2.0\n",
    "epsilons = [1.0, 0.5, 0.1]\n",
    "n_samples = 10_000\n",
    "samples_per_epsilon = {epsilon: [] for epsilon in epsilons}\n",
    "for epsilon in epsilons:\n",
    "    for i in range(n_samples):\n",
    "        f_deriv = (f(theta + epsilon) - f(theta)) / (epsilon)\n",
    "        samples_per_epsilon[epsilon].append(f_deriv)"
   ]
  },
  {
   "cell_type": "code",
   "execution_count": 110,
   "metadata": {},
   "outputs": [
    {
     "data": {
      "text/plain": [
       "<matplotlib.legend.Legend at 0x7ff0b1a64a60>"
      ]
     },
     "execution_count": 110,
     "metadata": {},
     "output_type": "execute_result"
    },
    {
     "data": {
      "image/png": "[encoded data removed]",
      "text/plain": [
       "<Figure size 640x480 with 1 Axes>"
      ]
     },
     "metadata": {},
     "output_type": "display_data"
    }
   ],
   "source": [
    "fig, ax = plt.subplots()\n",
    "for i, (epsilon, samples) in enumerate(samples_per_epsilon.items()):\n",
    "    ax.hist(samples, bins=100, alpha=0.35, label=f'$\\epsilon={epsilon}$', density=True, color = f\"C{i}\")\n",
    "ax.axvline(theta*10, color='black', linestyle='dashed', linewidth=1, label = \"Expected derivative\")\n",
    "ax.legend()"
   ]
  },
  {
   "cell_type": "markdown",
   "metadata": {},
   "source": [
    "What is going on? The smaller $\\epsilon$ is, the variance of our estimator is going $\\to \\infty$! \n",
    "\n",
    "This is caused by the fact that the two function calls $X(p)$ and $X(p+\\epsilon)$ are uncorrelated (they have a different random seed) and so even calling the program for very similar values of $p$ can cause large differences. \n",
    "\n",
    "Nonetheless, the finite differences method gives an unbiased estimator in this case.\n",
    "\n",
    "This issue is not present in automatic differentiation engines, since they only require one evaluation of the model:"
   ]
  },
  {
   "cell_type": "code",
   "execution_count": 111,
   "metadata": {},
   "outputs": [],
   "source": [
    "def f_torch(theta):\n",
    "    z = torch.normal(1.0, 2.0, (1,))[0]\n",
    "    return theta**2 * (z + 4)\n",
    "\n",
    "n_samples = 10_000\n",
    "samples_autograd = []\n",
    "for i in range(n_samples):\n",
    "    theta = torch.tensor(2.0, requires_grad=True)\n",
    "    f_torch(theta).backward()\n",
    "    samples_autograd.append(theta.grad)"
   ]
  },
  {
   "cell_type": "code",
   "execution_count": 116,
   "metadata": {},
   "outputs": [
    {
     "data": {
      "text/plain": [
       "<matplotlib.legend.Legend at 0x7ff0b0e1e770>"
      ]
     },
     "execution_count": 116,
     "metadata": {},
     "output_type": "execute_result"
    },
    {
     "data": {
      "image/png": "[encoded data removed]",
      "text/plain": [
       "<Figure size 640x480 with 1 Axes>"
      ]
     },
     "metadata": {},
     "output_type": "display_data"
    }
   ],
   "source": [
    "fig, ax = plt.subplots()\n",
    "ax.hist(samples_autograd, bins=100, alpha=0.35, label='Autograd', density=True, color = \"C0\");\n",
    "ax.axvline(20, color='black', linestyle='dashed', linewidth=1, label = \"Expected derivative\")\n",
    "ax.legend()"
   ]
  },
  {
   "cell_type": "markdown",
   "metadata": {},
   "source": [
    "As we can see, the variance is much lower than the finite difference case."
   ]
  },
  {
   "cell_type": "markdown",
   "metadata": {},
   "source": [
    "## Parameterizable noise\n",
    "\n",
    "In the example above, we made the assumption that the randomness of our model $p(z)$ did not depend on the structural parameters $\\theta$ that we want to differentiate by.\n",
    "\n",
    "However, in most agent-based models this assumption does not hold. Consider, for instance, the case of an SIR model where agents become infected with some probability $p$. This probability may depend on structural parameters such as $R_0$ or social distancing measures that we want to calibrate.\n",
    "\n",
    "So now we have\n",
    "\n",
    "$$\n",
    "\\nabla_\\theta\\mathbb E_{p_\\theta(z)} [f_\\theta(z)],\n",
    "$$\n",
    "\n",
    "expanding the same way as before we find\n",
    "\n",
    "$$\n",
    "\\begin{align}\n",
    "    \\nabla_\\theta\\mathbb E_{p_\\theta(z)} [f_\\theta(z)] &= \\nabla_\\theta \\left[ \\int_z p_\\theta(z) f_\\theta(z) \\mathrm{d}z\\right]\\\\\n",
    "                                                       &= \\int_z \\nabla_\\theta\\left[p_\\theta(z) f_\\theta(z)\\right] \\mathrm{d}z\\\\\n",
    "                                                       &= \\int_z f_\\theta(z)\\nabla_\\theta p_\\theta(z)\\mathrm{d} z + \\int_z p_\\theta(z) \\nabla_\\theta f_\\theta(z)\\mathrm{d}z\\\\\n",
    "                                                       &= \\int_z f_\\theta(z) \\nabla_\\theta p_\\theta(z) \\mathrm{d} z + \\mathbb E_{p_\\theta(z)} \\left[\\nabla_\\theta f_\\theta(z)\\right]\n",
    "\\end{align}\n",
    "$$\n",
    "\n",
    "notice that now we have an additional term, $\\int_z f_\\theta(z) \\nabla_\\theta p_\\theta(z) \\mathrm{d} z$, that prevents us from commuting the gradient and the expectation. So, in general, **the gradient of the expectation is not the expectation of the gradient**.\n",
    "\n",
    "\n",
    "### The reparameterization trick\n",
    "\n",
    "To circumvent this, we introduce the [reparameterization trick](https://arxiv.org/pdf/1312.6114.pdf). Continuous distributions have a property that allows an indirect way of sampling from them. One is direct sampling\n",
    "\n",
    "$$ x \\sim p_\\theta(x) $$\n",
    "\n",
    "and indirectly,\n",
    "\n",
    "$$ \\epsilon \\sim p(\\epsilon), x = g(\\epsilon, \\theta) $$\n",
    "\n",
    "where $g$ is a deterministic path that maps parameter-free noise ($\\epsilon$) to $x$. For instance, to sample from a Normal distribution $\\mathcal N(\\mu, \\sigma^2)$, we can do\n",
    "\n",
    "$$ \\epsilon \\sim \\mathcal N(0, 1), \\hspace{0.5cm} x = g(\\epsilon, \\theta) = \\mu + \\sigma \\epsilon. $$\n",
    "\n",
    "What have we accomplished with this? We have untangled the \"random\" part of the distribution from the part that depends on the parameters."
   ]
  },
  {
   "cell_type": "markdown",
   "metadata": {},
   "source": []
  },
  {
   "cell_type": "code",
   "execution_count": null,
   "metadata": {},
   "outputs": [],
   "source": []
  },
  {
   "cell_type": "code",
   "execution_count": null,
   "metadata": {},
   "outputs": [],
   "source": []
  },
  {
   "cell_type": "code",
   "execution_count": null,
   "metadata": {},
   "outputs": [],
   "source": []
  },
  {
   "cell_type": "code",
   "execution_count": null,
   "metadata": {},
   "outputs": [],
   "source": []
  }
 ],
 "metadata": {
  "kernelspec": {
   "display_name": "dev",
   "language": "python",
   "name": "python3"
  },
  "language_info": {
   "codemirror_mode": {
    "name": "ipython",
    "version": 3
   },
   "file_extension": ".py",
   "mimetype": "text/x-python",
   "name": "python",
   "nbconvert_exporter": "python",
   "pygments_lexer": "ipython3",
   "version": "3.10.13"
  }
 },
 "nbformat": 4,
 "nbformat_minor": 2
}
