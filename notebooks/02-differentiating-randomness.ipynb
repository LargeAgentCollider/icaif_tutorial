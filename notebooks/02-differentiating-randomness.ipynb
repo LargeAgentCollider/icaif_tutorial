{
 "cells": [
  {
   "cell_type": "code",
   "execution_count": 1,
   "metadata": {},
   "outputs": [],
   "source": [
    "import torch\n",
    "import numpy as np\n",
    "import matplotlib.pyplot as plt"
   ]
  },
  {
   "cell_type": "markdown",
   "metadata": {},
   "source": [
    "# Differentiating through randomness\n",
    "\n",
    "## Fixed noise distribution\n",
    "\n",
    "In the previous notebook (01-automatic-differentiation) we covered the basics of automatic differentiation (AD). However, we left an important detail for ABMs out. How can we compute the derivative of stochastic programs, and what does that mean, exactly?\n",
    "\n",
    "Consider the following program with an input parameter $\\theta$\n",
    "\n",
    "$$\n",
    "\n",
    "\\begin{align*}\n",
    "    z &\\sim \\mathcal N(1, 2) \\\\\n",
    "    y &= \\theta^2(z+4)\n",
    "\\end{align*}\n",
    "\n",
    "$$\n",
    "\n",
    "where $\\mathcal N(\\mu, \\sigma)$ is the Normal distribution with mean $\\mu$ and standard deviation $\\sigma^2$. This can be coded as:"
   ]
  },
  {
   "cell_type": "code",
   "execution_count": 3,
   "metadata": {},
   "outputs": [],
   "source": [
    "def f(theta):\n",
    "    z = np.random.normal(1, 2)\n",
    "    return theta**2 * (z + 4)"
   ]
  },
  {
   "cell_type": "markdown",
   "metadata": {},
   "source": [
    "So, what does it mean to compute\n",
    "\n",
    "$$\n",
    "\\frac{\\partial f(\\theta)}{\\partial \\theta} =  \\; ?\n",
    "$$\n",
    "\n",
    "If we think about the standard definition of derivative,\n",
    "\n",
    "$$\n",
    "\\frac{\\partial f(\\theta)}{\\partial \\theta} =  \\lim_{\\epsilon \\to 0} \\frac{f(\\theta+\\epsilon) - f(\\theta)}{\\epsilon}.\n",
    "$$\n",
    "\n",
    "we can observe that this is not well defined since the difference $f(\\theta+\\epsilon) - f(\\theta)$ will take random values and it is not clear how to treat this limit.\n",
    "\n",
    "However, in many cases, we are actually interested in the derivative of an **average** model realization, not just the derivative of a single run. In other words, we want to take gradients of the form\n",
    "\n",
    "$$\n",
    "\\mathbb E_{p(z)} [f_\\theta(z)],\n",
    "$$\n",
    "\n",
    "where $p$ is a probability density and $f$ is a (deterministic) simulator with structural parameters $\\theta$. Taking the derivative we have\n",
    "\n",
    "$$\n",
    "\\begin{align*}\n",
    "    \\nabla_\\theta \\mathbb E_{p(z)}\\;\\left[f_\\theta(z)\\right] &= \\nabla_\\theta\\left[\\int_z p(z) f_\\theta(z)\\mathrm{d}z\\right]\\\\\n",
    "                                                             &=  \\int_z p(z)\\left[\\nabla_\\theta f_\\theta(z)\\right]\\mathrm{d} z \\\\\n",
    "                                                             &= \\mathbb E_{p(z)}[\\nabla_\\theta f_\\theta(z)]\n",
    "\\end{align*}\n",
    "$$\n",
    "\n",
    "so that the gradient of the expectation is the expectation of the gradient.\n",
    "\n",
    "In our considered example, this translates to\n",
    "\n",
    "$$\n",
    "\\mathbb E_{z \\sim \\mathcal N(1, 2)}\\;\\left[\\theta^2(z+4)\\right]\n",
    "$$\n",
    "\n",
    "now we can take the derivative\n",
    "\n",
    "$$\n",
    "\\nabla_\\theta \\mathbb E_{z \\sim \\mathcal N(1, 2)}\\;\\left[\\theta(z+4)\\right] = \\mathbb E_{z\\sim \\mathcal N(1,2)} \\left[\\nabla_\\theta \\theta^2(z+4)\\right] = 10\\, \\theta\n",
    "$$\n",
    "\n",
    "Let's check this result numerically."
   ]
  },
  {
   "cell_type": "code",
   "execution_count": 20,
   "metadata": {},
   "outputs": [],
   "source": [
    "theta = 2.0\n",
    "epsilons = [1.0, 0.5, 0.1]\n",
    "n_samples = 10_000\n",
    "samples_per_epsilon = {epsilon: [] for epsilon in epsilons}\n",
    "for epsilon in epsilons:\n",
    "    for i in range(n_samples):\n",
    "        f_deriv = (f(theta + epsilon) - f(theta)) / (epsilon)\n",
    "        samples_per_epsilon[epsilon].append(f_deriv)"
   ]
  },
  {
   "cell_type": "code",
   "execution_count": 21,
   "metadata": {},
   "outputs": [
    {
     "data": {
      "text/plain": [
       "<matplotlib.legend.Legend at 0x13fcacac0>"
      ]
     },
     "execution_count": 21,
     "metadata": {},
     "output_type": "execute_result"
    },
    {
     "data": {
      "image/png": "[encoded data removed]",
      "text/plain": [
       "<Figure size 640x480 with 1 Axes>"
      ]
     },
     "metadata": {},
     "output_type": "display_data"
    }
   ],
   "source": [
    "fig, ax = plt.subplots()\n",
    "for i, (epsilon, samples) in enumerate(samples_per_epsilon.items()):\n",
    "    ax.hist(\n",
    "        samples,\n",
    "        bins=100,\n",
    "        alpha=0.6,\n",
    "        label=f\"$\\epsilon={epsilon}$\",\n",
    "        density=True,\n",
    "        color=f\"C{i}\",\n",
    "    )\n",
    "ax.axvline(\n",
    "    theta * 10,\n",
    "    color=\"black\",\n",
    "    linestyle=\"dashed\",\n",
    "    linewidth=1,\n",
    "    label=\"Expected derivative\",\n",
    ")\n",
    "ax.legend()"
   ]
  },
  {
   "cell_type": "markdown",
   "metadata": {},
   "source": [
    "What is going on? The smaller $\\epsilon$ is, the variance of our estimator is going $\\to \\infty$! \n",
    "\n",
    "This is caused by the fact that the two function calls $X(p)$ and $X(p+\\epsilon)$ are uncorrelated (they have a different random seed) and so even calling the program for very similar values of $p$ can cause large differences. \n",
    "\n",
    "Nonetheless, the finite differences method gives an unbiased estimator.\n",
    "\n",
    "This issue is not present in automatic differentiation engines, since they only require one evaluation of the model."
   ]
  },
  {
   "cell_type": "code",
   "execution_count": 22,
   "metadata": {},
   "outputs": [],
   "source": [
    "def f_torch(theta):\n",
    "    z = torch.distributions.Normal(1.0, 2.0).sample()\n",
    "    return theta**2 * (z + 4)\n",
    "\n",
    "\n",
    "n_samples = 10_000\n",
    "samples_autograd = []\n",
    "for i in range(n_samples):\n",
    "    theta = torch.tensor(2.0, requires_grad=True)\n",
    "    f_torch(theta).backward()\n",
    "    samples_autograd.append(theta.grad)"
   ]
  },
  {
   "cell_type": "code",
   "execution_count": 24,
   "metadata": {},
   "outputs": [
    {
     "data": {
      "text/plain": [
       "<matplotlib.legend.Legend at 0x15c053820>"
      ]
     },
     "execution_count": 24,
     "metadata": {},
     "output_type": "execute_result"
    },
    {
     "data": {
      "image/png": "[encoded data removed]",
      "text/plain": [
       "<Figure size 640x480 with 1 Axes>"
      ]
     },
     "metadata": {},
     "output_type": "display_data"
    }
   ],
   "source": [
    "fig, ax = plt.subplots()\n",
    "ax.hist(\n",
    "    samples_autograd, bins=100, label=\"Autograd\", density=True, color=\"C0\"\n",
    ")\n",
    "ax.axvline(\n",
    "    10*theta.item(), color=\"black\", linestyle=\"dashed\", linewidth=1, label=\"Expected derivative\"\n",
    ")\n",
    "ax.legend()"
   ]
  },
  {
   "cell_type": "markdown",
   "metadata": {},
   "source": [
    "As we can see, the variance is much lower than the finite difference case."
   ]
  },
  {
   "cell_type": "markdown",
   "metadata": {},
   "source": [
    "## Parameterizable noise\n",
    "\n",
    "In the example above, we made the assumption that the randomness of our model $p(z)$ did not depend on the structural parameters $\\theta$ that we want to differentiate by.\n",
    "\n",
    "However, in most agent-based models this assumption does not hold. Consider, for instance, the case of an SIR model where agents become infected with some probability $q$. This probability may depend on structural parameters such as $R_0$ or social distancing measures that we want to calibrate.\n",
    "\n",
    "So now we have\n",
    "\n",
    "$$\n",
    "\\tag{1}\n",
    "\\nabla_\\theta\\mathbb E_{p_\\theta(z)} [f_\\theta(z)],\n",
    "$$\n",
    "\n",
    "where $p$ is parameterized by $\\theta$. Expanding the same way as before we find\n",
    "\n",
    "$$\n",
    "\\begin{align*}\n",
    "    \\nabla_\\theta\\mathbb E_{p_\\theta(z)} [f_\\theta(z)] &= \\nabla_\\theta \\left[ \\int_z p_\\theta(z) f_\\theta(z) \\mathrm{d}z\\right]\\\\\n",
    "                                                       &= \\int_z \\nabla_\\theta\\left[p_\\theta(z) f_\\theta(z)\\right] \\mathrm{d}z\\\\\n",
    "                                                       &= \\int_z f_\\theta(z)\\nabla_\\theta p_\\theta(z)\\mathrm{d} z + \\int_z p_\\theta(z) \\nabla_\\theta f_\\theta(z)\\mathrm{d}z\\\\\n",
    "                                                       &= \\int_z f_\\theta(z) \\nabla_\\theta p_\\theta(z) \\mathrm{d} z + \\mathbb E_{p_\\theta(z)} \\left[\\nabla_\\theta f_\\theta(z)\\right]\n",
    "\\end{align*}\n",
    "$$\n",
    "\n",
    "notice that now we have an additional term, $\\int_z f_\\theta(z) \\nabla_\\theta p_\\theta(z) \\mathrm{d} z$, that prevents us from commuting the gradient and the expectation. So, in general, **the gradient of the expectation is not the expectation of the gradient** when our structural parameters parameterize the randomness.\n",
    "\n",
    "\n",
    "### The reparameterization trick\n",
    "\n",
    "To circumvent this, we introduce the [reparameterization trick](https://arxiv.org/pdf/1312.6114.pdf). Continuous distributions have a property that allows an indirect way of sampling from them. One is direct sampling\n",
    "\n",
    "$$ x \\sim p_\\theta(x) $$\n",
    "\n",
    "and indirectly,\n",
    "\n",
    "$$ \\epsilon \\sim p(\\epsilon), \\hspace{1cm} x = g(\\epsilon, \\theta) $$\n",
    "\n",
    "where $g$ is a deterministic path that maps parameter-free noise ($\\epsilon$) to $x$. For instance, to sample from a Normal distribution $\\mathcal N(\\mu, \\sigma^2)$, we can do\n",
    "\n",
    "$$ \\epsilon \\sim \\mathcal N(0, 1), \\hspace{0.5cm} x = g_\\theta(\\epsilon) = \\mu + \\sigma \\epsilon. $$\n",
    "\n",
    "What have we accomplished with this? We have untangled the \"random\" part of the distribution from the part that depends on the parameters.\n",
    "This allows us to re-formulate (1) as\n",
    "\n",
    "$$\n",
    "\\nabla_\\theta\\mathbb E_{p_\\theta(z)} [f_\\theta(z)] = \\nabla_\\theta\\mathbb E_{p(\\epsilon)}\\left[f(g_\\theta(\\epsilon, x))\\right],\n",
    "$$\n",
    "\n",
    "where now we can move the gradient inside,\n",
    "\n",
    "$$\n",
    "\\nabla_\\theta\\mathbb E_{p(\\epsilon)}\\left[f(g_\\theta(\\epsilon, x))\\right] = \\mathbb E_{p(\\epsilon)}\\left[\\nabla_\\theta f(g_\\theta(\\epsilon, x))\\right].\n",
    "$$\n",
    "\n",
    "So we have been able to transform the gradient of the expectation to the expectation of the gradient. This can be computed provided that $f$ and $g$ are differentiable. This expectation can now be estiated by Monte Carlo,\n",
    "\n",
    "$$\n",
    "\\mathbb E_{p(\\epsilon)}\\left[\\nabla_\\theta f(g_\\theta(\\epsilon, x))\\right] \\approx \\frac{1}{N} \\sum_{i=1}^N \\nabla_\\theta f(g_\\theta(\\epsilon_i, x_i)).\n",
    "$$\n",
    "\n",
    "Let's see an example. Consider the program with input $\\theta$\n",
    "\n",
    "$$\n",
    "\\begin{align*}\n",
    "z \\sim \\mathcal N(\\theta, 4) \\\\\n",
    "y = \\theta^2 (4 + z)\n",
    "\\end{align*}\n",
    "$$\n",
    "\n",
    "The expected answer is\n",
    "\n",
    "$$\n",
    "\\mathbb E_{\\epsilon \\sim \\mathcal N(0,1)}\\left[ \\nabla_\\theta \\theta^2 (4 + \\theta + 2\\epsilon )\\right ] =\\mathbb E_{\\epsilon \\sim \\mathcal N(0,1)}[8\\theta + 3\\theta^2 + 4\\theta\\epsilon] = 8\\theta + 3\\theta^2\n",
    "$$\n",
    "\n",
    "Let's first check both the parameterized and unreparameterized version:"
   ]
  },
  {
   "cell_type": "code",
   "execution_count": 25,
   "metadata": {},
   "outputs": [],
   "source": [
    "def f_torch_norep(theta):\n",
    "    z = torch.distributions.Normal(theta, 2.0).sample()\n",
    "    return theta**2 * (z + 4)\n",
    "\n",
    "\n",
    "def f_torch(theta):\n",
    "    epsilon = torch.distributions.Normal(0, 1).sample()\n",
    "    z = theta + epsilon * 2\n",
    "    return theta**2 * (4 + z)\n",
    "\n",
    "\n",
    "rep_samples = []\n",
    "norep_samples = []\n",
    "n_samples = 2_000\n",
    "theta_value = 2.0\n",
    "analytical_result = 8 * theta_value + 3 * theta_value**2\n",
    "for i in range(n_samples):\n",
    "    theta = torch.tensor(theta_value, requires_grad=True)\n",
    "    f_torch_norep(theta).backward()\n",
    "    norep_samples.append(theta.grad.item())\n",
    "    theta = torch.tensor(theta_value, requires_grad=True)\n",
    "    f_torch(theta).backward()\n",
    "    rep_samples.append(theta.grad.item())"
   ]
  },
  {
   "cell_type": "code",
   "execution_count": 26,
   "metadata": {},
   "outputs": [
    {
     "data": {
      "text/plain": [
       "<matplotlib.legend.Legend at 0x14fdd8280>"
      ]
     },
     "execution_count": 26,
     "metadata": {},
     "output_type": "execute_result"
    },
    {
     "data": {
      "image/png": "[encoded data removed]",
      "text/plain": [
       "<Figure size 640x480 with 1 Axes>"
      ]
     },
     "metadata": {},
     "output_type": "display_data"
    }
   ],
   "source": [
    "fig, ax = plt.subplots()\n",
    "ax.hist(\n",
    "    norep_samples,\n",
    "    bins=100,\n",
    "    alpha=0.35,\n",
    "    label=\"No Reparametrization\",\n",
    "    density=True,\n",
    "    color=\"C0\",\n",
    ")\n",
    "ax.hist(\n",
    "    rep_samples,\n",
    "    bins=100,\n",
    "    alpha=0.35,\n",
    "    label=\"Reparametrization\",\n",
    "    density=True,\n",
    "    color=\"C1\",\n",
    ")\n",
    "ax.axvline(\n",
    "    analytical_result,\n",
    "    color=\"black\",\n",
    "    linestyle=\"dashed\",\n",
    "    linewidth=1,\n",
    "    label=\"Expected derivative\",\n",
    ")\n",
    "ax.legend()"
   ]
  },
  {
   "cell_type": "markdown",
   "metadata": {},
   "source": [
    "As we can see, we need to be careful, because PyTorch may not be applying the reparameterization trick and we may obtain the wrong results!!\n",
    "\n",
    "By calling `dist.sample()` the gradient propagation stops and so we obtain the wrong result. Thankfully, PyTorch has a shortcut to implement the reparameterization trick for us so we don't have to do it manually. This can be done by using the `.rsample()` method."
   ]
  },
  {
   "cell_type": "code",
   "execution_count": 33,
   "metadata": {},
   "outputs": [
    {
     "name": "stdout",
     "output_type": "stream",
     "text": [
      "27.93507194519043 ~ 28.0\n"
     ]
    }
   ],
   "source": [
    "def f_torch(theta):\n",
    "    z = torch.distributions.Normal(theta, 2.0).rsample()\n",
    "    return theta**2 * (z + 4)\n",
    "\n",
    "\n",
    "rep = (\n",
    "    sum([torch.func.grad(f_torch)(torch.tensor(2.0)) for i in range(n_samples)])\n",
    "    / n_samples\n",
    ")\n",
    "print(f\"{rep} ~ {analytical_result}\")"
   ]
  },
  {
   "cell_type": "markdown",
   "metadata": {},
   "source": [
    "# A note on reinforcement learning\n",
    "\n",
    "Recall equation (1):\n",
    "\n",
    "$$\n",
    "\\nabla_\\theta\\mathbb E_{p_\\theta(z)} [f_\\theta(z)].\n",
    "$$\n",
    "\n",
    "There is an alternative way to re-express this gradient:\n",
    "\n",
    "$$\n",
    "\\begin{split}\n",
    "\\nabla_\\theta\\mathbb E_{p_\\theta(z)} [f_\\theta(z)] &= \\nabla_\\theta \\int p_\\theta(z) f_\\theta(z) \\mathrm{d} z \\\\\n",
    "&= \\int f(z) \\nabla_\\theta p(z) \\mathrm{d}z \\\\\n",
    "&= \\int p_\\theta(z) f_\\theta(z) \\nabla_\\theta \\log p_\\theta(z) \\mathrm{d} z \\\\\n",
    "&= \\mathbb E_{p_\\theta(z)}\\left[f(z) \\nabla_\\theta \\log p_\\theta(z)\\right]\n",
    "\\end{split}\n",
    "$$\n",
    "\n",
    "The familiar reader will recognize the last expression as the score-based estimator of the gradient, also known as REINFORCE in the RL community.\n",
    "The advantage of calculating the gradient this way, is that we only require the density $p$ to be differentiable, but we have no constraints on $f$. However, this gradient does not scale well for high dimensionality of $\\theta$, compared to the path-wise approach, since the variance scales with the dimension of $\\theta$. See [this reference](https://arxiv.org/abs/1906.10652) for an in-depth review."
   ]
  },
  {
   "cell_type": "markdown",
   "metadata": {},
   "source": [
    "# Discrete randomness"
   ]
  },
  {
   "cell_type": "markdown",
   "metadata": {},
   "source": [
    "The above discussion about the reparameterization trick makes the assumption that the probability density is differentiable. This is true for continuous distributions but it does not hold for discrete ones such as Bernoulli or Categorical distributions.\n",
    "\n",
    "Multiple methods exist to deal with this issue, the most common ones being the Stright-Through estimator [(Bengio et al. 2013)](https://arxiv.org/abs/1308.3432) or the Gumbel-Softmax trick [(Jang et al. 2016)](https://arxiv.org/abs/1611.01144). Newer methods are continuously being developed such as the [StochasticAD.jl](https://arxiv.org/abs/2210.08572) package in the Julia language.\n",
    "\n",
    "Here, we focus on the Gumbel-Softmax (GS) trick. The GS distribution is a continuous relaxation of the Categorical distribution. The GS has a temperature parameter $\\tau$ which controls the smoothness of the approximation such that the exact Categorical sampling is recovered for $\\tau\\to 0$. However, the variance of the gradient will grow as $\\tau\\to 0$ so $\\tau$ acts as a bias-variance trade-off.\n",
    "\n",
    "PyTorch has a standard implementation ready to use. In particular, it implements a \"hard\" version of GS. The idea is that we can use the samples from the categorical distribution in the forward simulated pass, and use the continuous relaxation to approximate the gradients in the backward pass. This way we guarantee that the forward simulation is exactly equivalent to the non-relaxed version.\n",
    "\n",
    "Consider the program with input parameter $\\theta$:\n",
    "\n",
    "$$\n",
    "x = 2 \\mathrm{Bernoulli}(3\\theta) + \\mathrm{Bernoulli}(\\theta)\n",
    "$$\n",
    "\n",
    "We have\n",
    "\n",
    "$$\n",
    "\\nabla_\\theta \\mathbb E [2 \\mathrm{Bernoulli}(3\\theta) + \\mathrm{Bernoulli}(\\theta)] = \\nabla_\\theta (6\\theta + \\theta) = 7\n",
    "$$"
   ]
  },
  {
   "cell_type": "code",
   "execution_count": 34,
   "metadata": {},
   "outputs": [],
   "source": [
    "def sample_bernoulli(theta, gs_tau):\n",
    "    logits = torch.cat([theta, 1 - theta]).log()\n",
    "    return torch.nn.functional.gumbel_softmax(logits=logits, tau=gs_tau, hard=True)\n",
    "\n",
    "\n",
    "def f(theta, gs_tau):\n",
    "    return 2 * sample_bernoulli(3 * theta, gs_tau) + sample_bernoulli(theta, gs_tau)"
   ]
  },
  {
   "cell_type": "code",
   "execution_count": 39,
   "metadata": {},
   "outputs": [],
   "source": [
    "n_samples = 1_000\n",
    "taus = [0.1, 0.5, 0.9]\n",
    "gradients_per_tau = {}\n",
    "for tau in taus:\n",
    "    gradients = []\n",
    "    for i in range(n_samples):\n",
    "        theta = torch.tensor([0.1], requires_grad=True)\n",
    "        f(theta, tau)[0].backward()\n",
    "        gradients.append(theta.grad.item())\n",
    "    gradients_per_tau[tau] = gradients"
   ]
  },
  {
   "cell_type": "code",
   "execution_count": 40,
   "metadata": {},
   "outputs": [
    {
     "data": {
      "text/plain": [
       "<matplotlib.legend.Legend at 0x15c2efe20>"
      ]
     },
     "execution_count": 40,
     "metadata": {},
     "output_type": "execute_result"
    },
    {
     "data": {
      "image/png": "[encoded data removed]",
      "text/plain": [
       "<Figure size 640x480 with 1 Axes>"
      ]
     },
     "metadata": {},
     "output_type": "display_data"
    }
   ],
   "source": [
    "fig, ax = plt.subplots()\n",
    "for i, (tau, gradients) in enumerate(gradients_per_tau.items()):\n",
    "    ax.boxplot(gradients, showmeans=True, positions=[i], labels=[f\"$\\\\tau={tau}$\"], showfliers=False)\n",
    "ax.axhline(7, color=\"blue\", linestyle=\"dashed\", linewidth=1, label=\"Expected gradient\")\n",
    "ax.legend()"
   ]
  }
 ],
 "metadata": {
  "kernelspec": {
   "display_name": "dev",
   "language": "python",
   "name": "python3"
  },
  "language_info": {
   "codemirror_mode": {
    "name": "ipython",
    "version": 3
   },
   "file_extension": ".py",
   "mimetype": "text/x-python",
   "name": "python",
   "nbconvert_exporter": "python",
   "pygments_lexer": "ipython3",
   "version": "3.10.9"
  }
 },
 "nbformat": 4,
 "nbformat_minor": 2
}
