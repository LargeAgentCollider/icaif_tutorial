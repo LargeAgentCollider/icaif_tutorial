{
 "cells": [
  {
   "cell_type": "code",
   "execution_count": 1,
   "metadata": {},
   "outputs": [],
   "source": [
    "import torch\n",
    "import numpy as np\n",
    "import matplotlib.pyplot as plt"
   ]
  },
  {
   "cell_type": "markdown",
   "metadata": {},
   "source": [
    "# Differentiating Through Randomness\n",
    "\n",
    "In the previous notebook we covered the basics of automatic differentiation (AD). However, we focused on differentiating deterministic programs that always produce the same output given the same input. In contrast, ABMs are typically stochastic in nature. In this notebook we will explore how one can employ AD to differentiate through randomness.\n",
    "\n",
    "## Fixed noise distributions\n",
    "\n",
    "Consider the following stochastic model $f$ with input parameter $\\theta$:\n",
    "\n",
    "$$\n",
    "\\begin{align*}\n",
    "    z &\\sim \\mathcal N(1, 2) \\\\\n",
    "    y &= \\theta^2(z+4)\n",
    "\\end{align*}\n",
    "$$\n",
    "\n",
    "Here, $\\mathcal N(\\mu, \\sigma)$ denotes the Normal distribution with mean $\\mu$ and standard deviation $\\sigma^2$. We can implement this model via the following **stochastic program**:"
   ]
  },
  {
   "cell_type": "code",
   "execution_count": 3,
   "metadata": {},
   "outputs": [],
   "source": [
    "def f(theta):\n",
    "    z = np.random.normal(1, 2)\n",
    "    return theta**2 * (z + 4)"
   ]
  },
  {
   "cell_type": "markdown",
   "metadata": {},
   "source": [
    "We can now ask what it means to compute the derivative of $f$ with respect to $\\theta$. Recall the standard definition of the derivative for scalar univariate functions:\n",
    "\n",
    "$$\n",
    "\\frac{d f(\\theta)}{d \\theta} =  \\lim_{\\epsilon \\to 0} \\frac{f(\\theta+\\epsilon) - f(\\theta)}{\\epsilon}.\n",
    "$$\n",
    "\n",
    "Note that the difference $f(\\theta+\\epsilon) - f(\\theta)$ is now a random quantity, and as a result it is unclear how we should treat the limit on the right-hand side. Significant research effort has been dedicated to the development of **sample derivatives** which address this issue. Whilst much of what we will discuss here can be framed in terms of sample derivatives, we will take a simpler approach and circumvent this theory for the time being.\n",
    "\n",
    "In practice, we are typically interested in the **average** behaviour of a model, rather than the output associated with a single run. In the case of our example, this means we want to compute the following gradient:\n",
    "\n",
    "$$ \\nabla_{\\theta}\\mathbb{E}_{z \\sim \\mathcal{N}(1,2)}[\\theta^{2}(z+4)]$$\n",
    "\n",
    "This is a specific instance of the more general gradient estimation problem:\n",
    "\n",
    "$$\n",
    "\\nabla_{\\theta}\\mathbb E_{p(z)} [f_\\theta(z)]\n",
    "$$\n",
    "\n",
    "where $f_{\\theta}$ is any function which is deterministic with respect to $z$ and differentiable with respect to $\\theta$. Note that the noise distribution, as specified by the density $p$, does not depend on $\\theta$. We will relax this assumption later on. Let's expand and rewrite this gradient slighty.\n",
    "\n",
    "$$  \\begin{align*}\n",
    "    \\nabla_{\\theta}\\mathbb E_{p(z)} [f_\\theta(z)] &=\n",
    "    \\nabla_{\\theta}\\int p(z)f_\\theta(z)dz \\\\\n",
    "    &= \\int p(z)\\nabla_{\\theta}f_{\\theta}(z)dz \\\\\n",
    "    &= \\mathbb{E}_{z \\sim p(z)}[\\nabla_{\\theta}f_{\\theta}(z)].\n",
    "    \\end{align*}\n",
    "$$\n",
    "\n",
    "Put simply, we find that the gradient of the expectation is equal to the expectation of the gradient. In the second equality, we assumed that $f_{\\theta}(x)$ is *sufficiently regular* so that Leibniz's rule applies. That is, we are allowed to exchange the integral and derivative operators. Almost all the functions used in machine learning satisfy this criteria. If you are curious about the technical details, I recommend checking out [this paper](https://www.jstor.org/stable/2319163), which investigates when the exchange of integration and differentiation is generally permitted.\n",
    "\n",
    "We can now derive a closed-form expression for the gradient in our running example:\n",
    "\n",
    "$$\n",
    "\\nabla_\\theta \\mathbb E_{z \\sim \\mathcal N(1, 2)}\\;\\left[\\theta(z+4)\\right] = \\mathbb E_{z\\sim \\mathcal N(1,2)} \\left[\\nabla_\\theta \\theta^2(z+4)\\right] = 10\\, \\theta\n",
    "$$\n",
    "\n",
    "We can check this is correct numerically by applying finite differences (FD) directly to the expectation. In this case, FD corresponds to the following approximation scheme:\n",
    "\n",
    "$$ \\nabla_{\\theta}\\mathbb E_{p(z)} [f_\\theta(z)] \\approx \\frac{\\mathbb{E}_{z \\sim p(z)}[f_{\\theta + \\epsilon}(z)] - \\mathbb{E}_{z \\sim p(z)}[f_{\\theta}(z)]}{\\epsilon}$$\n",
    "\n",
    "Generally speaking, we can't compute the expectations within this quotient, as this requires integrating over the support $z$. However, we can unbiasedly estimate them using a standard Monte Carlo approximation:\n",
    "\n",
    "$$ \\nabla_{\\theta}\\mathbb E_{p(z)} [f_\\theta(z)] \\approx \\frac{\\frac{1}{m}\\sum^{m}_{i=1}f_{\\theta + \\epsilon}(z_{i, 1}) - \\frac{1}{m}\\sum_{i=1}^{m}f_{\\theta}(z_{i, 2})}{\\epsilon}, $$\n",
    "\n",
    "where $z_{i, 1} \\sim p$ and $z_{i, 2} \\sim p$. Let's plot a histogram of the gradients returned by the above FD estimator for different values of $\\epsilon$!\n",
    "\n",
    "<!-- However, in many cases, we are actually interested in the derivative of an **average** model realization, not just the derivative of a single run. In other words, we want to take gradients of the form\n",
    "\n",
    "$$\n",
    "\\mathbb E_{z \\sim \\mathcal N(1, 2)}\\;\\left[\\theta^2(z+4)\\right]\n",
    "$$\n",
    "\n",
    "where $p$ is a probability density and $f$ is a (deterministic) simulator with structural parameters $\\theta$. Taking the derivative we have\n",
    "\n",
    "$$\n",
    "\\begin{align*}\n",
    "    \\nabla_\\theta \\mathbb E_{p(z)}\\;\\left[f_\\theta(z)\\right] &= \\nabla_\\theta\\left[\\int_z p(z) f_\\theta(z)\\mathrm{d}z\\right]\\\\\n",
    "                                                             &=  \\int_z p(z)\\left[\\nabla_\\theta f_\\theta(z)\\right]\\mathrm{d} z \\\\\n",
    "                                                             &= \\mathbb E_{p(z)}[\\nabla_\\theta f_\\theta(z)]\n",
    "\\end{align*}\n",
    "$$ -->\n",
    "\n",
    "<!-- so that the gradient of the expectation is the expectation of the gradient.\n",
    "\n",
    "In our considered example, this translates to\n",
    "\n",
    "$$\n",
    "\\mathbb E_{z \\sim \\mathcal N(1, 2)}\\;\\left[\\theta^2(z+4)\\right]\n",
    "$$\n",
    "\n",
    "now we can take the derivative\n",
    "\n",
    "$$\n",
    "\\nabla_\\theta \\mathbb E_{z \\sim \\mathcal N(1, 2)}\\;\\left[\\theta(z+4)\\right] = \\mathbb E_{z\\sim \\mathcal N(1,2)} \\left[\\nabla_\\theta \\theta^2(z+4)\\right] = 10\\, \\theta\n",
    "$$\n",
    "\n",
    "Let's check this result numerically. -->"
   ]
  },
  {
   "cell_type": "code",
   "execution_count": 4,
   "metadata": {},
   "outputs": [],
   "source": [
    "theta = 2.0\n",
    "epsilons = [1.0, 0.5, 0.1]\n",
    "n_samples = 10_000\n",
    "samples_per_epsilon = {epsilon: [] for epsilon in epsilons}\n",
    "for epsilon in epsilons:\n",
    "    for i in range(n_samples):\n",
    "        f_deriv = (f(theta + epsilon) - f(theta)) / (epsilon)\n",
    "        samples_per_epsilon[epsilon].append(f_deriv)"
   ]
  },
  {
   "cell_type": "code",
   "execution_count": 5,
   "metadata": {},
   "outputs": [
    {
     "data": {
      "text/plain": [
       "<matplotlib.legend.Legend at 0x17e7b7cd0>"
      ]
     },
     "execution_count": 5,
     "metadata": {},
     "output_type": "execute_result"
    },
    {
     "data": {
      "image/png": "[encoded data removed]",
      "text/plain": [
       "<Figure size 640x480 with 1 Axes>"
      ]
     },
     "metadata": {},
     "output_type": "display_data"
    }
   ],
   "source": [
    "fig, ax = plt.subplots()\n",
    "for i, (epsilon, samples) in enumerate(samples_per_epsilon.items()):\n",
    "    ax.hist(\n",
    "        samples,\n",
    "        bins=100,\n",
    "        alpha=0.6,\n",
    "        label=f\"$\\epsilon={epsilon}$\",\n",
    "        density=True,\n",
    "        color=f\"C{i}\",\n",
    "    )\n",
    "ax.axvline(\n",
    "    theta * 10,\n",
    "    color=\"black\",\n",
    "    linestyle=\"dashed\",\n",
    "    linewidth=1,\n",
    "    label=\"Expected derivative\",\n",
    ")\n",
    "ax.legend()"
   ]
  },
  {
   "cell_type": "markdown",
   "metadata": {},
   "source": [
    "For all $\\epsilon$ tested, the mean of our estimator roughly corresponds to the true analytical gradient derived above, which is represented by the vertical dashed line. We also notice another striking pheneomena. As $\\epsilon \\to 0$, the variance of our estimator increases. Why is this? \n",
    "\n",
    "Recall the Monte Carlo estimate we employed to approximate FD:\n",
    "\n",
    "$$ \\sum^{m}_{i=1}f_{\\theta + \\epsilon}(z_{i, 1}) - \\sum_{i=1}^{m}f_{\\theta}(z_{i, 2}) $$\n",
    "\n",
    "This is the only random quantity and hence the source of all the variance. When we divide through by $\\epsilon$ this term is scaled up, dramatically increasing its variance. The smaller the $\\epsilon$, the worse this effect will be. As we saw in the last notebook, sometimes we need set $\\epsilon$ to a small value to get a good approximation of the gradient. As a result, we can't rely on increasing $\\epsilon$ as a strategy to reduce variance. Our only option is to reduce the initial variance of the Monte Carlo term above. \n",
    "\n",
    "The simplest way to reduce variance is increasing the number of samples $m$ used in each Monte-Carlo approximation. However, this involves more function evaluations, which in turn may be computationally expensive, especially if $f$ is an ABM. Alternatively, one can reduce variance by coupling the noise terms used in each Monte Carlo sum. That is, setting $z_{i, 1} = z_{i, 2}$. This reduces noise introduced by evaluating $f$ at different sample points when taking the difference between sums. However, syncrhonising the noise terms in practice can be difficult, and is not as simple as fixing a random seed!\n",
    "\n",
    "Next, let's consider the following approximation of the derivative:\n",
    "\n",
    "$$ \\frac{1}{m}\\sum^{m}_{i=1}\\nabla_{\\theta}f_{\\theta}(z_{i}), $$\n",
    "\n",
    "where each gradient term is computed using AD instead of FD. Note that we no longer need to take a difference of terms, nor do we need to divide by a small value. As a result, we should expect the variance of this estimator to be far lower. Let's plot its corresponding histogram and check!\n",
    "\n",
    "<!-- What is going on? The smaller $\\epsilon$ is, the variance of our estimator is going $\\to \\infty$! \n",
    "\n",
    "This is caused by the fact that the two function calls $X(p)$ and $X(p+\\epsilon)$ are uncorrelated (they have a different random seed) and so even calling the program for very similar values of $p$ can cause large differences. \n",
    "\n",
    "Nonetheless, the finite differences method gives an unbiased estimator.\n",
    "\n",
    "This issue is not present in automatic differentiation engines, since they only require one evaluation of the model. -->"
   ]
  },
  {
   "cell_type": "code",
   "execution_count": 6,
   "metadata": {},
   "outputs": [],
   "source": [
    "def f_torch(theta):\n",
    "    z = torch.distributions.Normal(1.0, 2.0).sample()\n",
    "    return theta**2 * (z + 4)\n",
    "\n",
    "\n",
    "n_samples = 10_000\n",
    "samples_autograd = []\n",
    "for i in range(n_samples):\n",
    "    theta = torch.tensor(2.0, requires_grad=True)\n",
    "    f_torch(theta).backward()\n",
    "    samples_autograd.append(theta.grad)"
   ]
  },
  {
   "cell_type": "code",
   "execution_count": 7,
   "metadata": {},
   "outputs": [
    {
     "data": {
      "text/plain": [
       "<matplotlib.legend.Legend at 0x17ec2cac0>"
      ]
     },
     "execution_count": 7,
     "metadata": {},
     "output_type": "execute_result"
    },
    {
     "data": {
      "image/png": "[encoded data removed]",
      "text/plain": [
       "<Figure size 640x480 with 1 Axes>"
      ]
     },
     "metadata": {},
     "output_type": "display_data"
    }
   ],
   "source": [
    "fig, ax = plt.subplots()\n",
    "ax.hist(\n",
    "    samples_autograd, bins=100, label=\"Autograd\", density=True, color=\"C0\"\n",
    ")\n",
    "ax.axvline(\n",
    "    10*theta.item(), color=\"black\", linestyle=\"dashed\", linewidth=1, label=\"Expected derivative\"\n",
    ")\n",
    "ax.legend()"
   ]
  },
  {
   "cell_type": "markdown",
   "metadata": {},
   "source": [
    "As we can see, using AD leads to much lower variance compared to using FD!"
   ]
  },
  {
   "cell_type": "markdown",
   "metadata": {},
   "source": [
    "## Parameterizable Noise\n",
    "\n",
    "So far, we have assumed that the randomness of our model, described by $p(z)$, did not depend on the structural parameters $\\theta$ that we want to differentiate with respect to. However, in most ABMs this assumption does not hold. For instance, consider an epdiemlogical model where agents become infected with some probability. This probability may depend on structural parameters representing factors that we are interested in calibrating, such as disease contagiousness or social distancing measures.\n",
    "\n",
    "In such cases, we need to estimate the following gradient:\n",
    "\n",
    "$$\n",
    "\\nabla_\\theta\\mathbb E_{p_\\theta(z)} [f_\\theta(z)],\n",
    "$$\n",
    "\n",
    "where $p$ is parameterized by $\\theta$. Let's expand this gradient just like we did in the previous section.\n",
    "\n",
    "$$\n",
    "\\begin{align*}\n",
    "    \\nabla_\\theta\\mathbb E_{p_\\theta(z)} [f_\\theta(z)] &= \\nabla_\\theta \\left[ \\int_z p_\\theta(z) f_\\theta(z) \\mathrm{d}z\\right]\\\\\n",
    "                                                       &= \\int_z \\nabla_\\theta\\left[p_\\theta(z) f_\\theta(z)\\right] \\mathrm{d}z\\\\\n",
    "                                                       &= \\int_z f_\\theta(z)\\nabla_\\theta p_\\theta(z)\\mathrm{d} z + \\int_z p_\\theta(z) \\nabla_\\theta f_\\theta(z)\\mathrm{d}z\\\\\n",
    "                                                       &= \\int_z f_\\theta(z) \\nabla_\\theta p_\\theta(z) \\mathrm{d} z + \\mathbb E_{p_\\theta(z)} \\left[\\nabla_\\theta f_\\theta(z)\\right]\n",
    "\\end{align*}\n",
    "$$\n",
    "\n",
    "Notice that we now have an additional term, $\\int_z f_\\theta(z) \\nabla_\\theta p_\\theta(z) \\mathrm{d} z$, that prevents us from commuting the gradient and the expectation. Hence, in general, **the gradient of the expectation is not the expectation of the gradient** when our structural parameters parameterize the randomness. In the next subsection, we will introduce a trick for estimating the gradient when $p$ is continuous.\n",
    "\n",
    "\n",
    "### The Reparameterization Trick\n",
    "\n",
    " <!-- To circumvent this, we introduce the [reparameterization trick](https://arxiv.org/pdf/1312.6114.pdf).  -->\n",
    " \n",
    " <!-- For now, we assume that $p$ describes a continuous.  -->\n",
    " \n",
    " <!-- Continuous distributions have a property that allows an indirect way of sampling from them. One is direct sampling -->\n",
    "\n",
    " Roughly speaking, there are two basic ways to sample from a continuous distribution $p_{\\theta}$. We may sample directly from $p_{\\theta}$:\n",
    "\n",
    "$$ x \\sim p_\\theta(x), $$\n",
    "\n",
    "or we can sample auxillary noise $\\varepsilon$ from another distribution $q$, and apply a deterministic transform $g_{\\theta}$ so that the resulting output is distributed according to $p_{\\theta}$. This is broadly known as indirect sampling,\n",
    "\n",
    "$$  x = g_{\\theta}(\\varepsilon), \\quad \\varepsilon \\sim q(\\varepsilon) $$\n",
    "\n",
    "<!-- where $g$ is a deterministic path that maps parameter-free noise ($\\epsilon$) to $x$.  -->\n",
    "\n",
    "When $q$ is the standard uniform density, this procedure corresponds to inverse transform sampling, and $g$ corresponds to the inverse CDF function associated with $p_{\\theta}$.  However, sometimes there are better choices for $q$ that make $g_{\\theta}$ easier to compute. For instance, to sample from the normal distribution $\\mathcal N(\\mu, \\sigma^2)$, we can use the standard normal distribution $\\mathcal{N}(0, 1)$ to sample auxillary noise:\n",
    "\n",
    "$$ \\varepsilon \\sim \\mathcal N(0, 1), \\quad x  =  \\mu + \\sigma \\varepsilon $$\n",
    "\n",
    "\n",
    "So why do we care about indirect sampling? Since indirect and direct sampling produce the same distribution we clearly have:\n",
    "\n",
    "$$\n",
    "\\mathbb{E}_{p_{\\theta}(z)}[f_{\\theta}(z)] = \\mathbb{E}_{\\varepsilon \\sim q(\\varepsilon)}[f_{\\theta}(g_{\\theta}(\\varepsilon))].\n",
    "$$\n",
    "\n",
    "Thus, taking gradients we have\n",
    "$$\n",
    "\\nabla_{\\theta}\\mathbb{E}_{p_{\\theta}(z)}[f_{\\theta}(z)] = \\nabla_{\\theta}\\mathbb{E}_{\\varepsilon \\sim q(\\varepsilon)}[f_{\\theta}(g_{\\theta}(\\varepsilon))] \n",
    "$$\n",
    "\n",
    "Note that the sampling distribution $q(\\varepsilon)$ does not depend on $\\theta$. Thus, if $g_{\\theta}$ and $f_{\\theta}$ are both differentiable and sufficiently regular, we can exchange the gradient and expectation operators on the right-hand side, just as we had done in the previous section!\n",
    "\n",
    "$$\n",
    "\\nabla_{\\theta}\\mathbb{E}_{p_{\\theta}(z)}[f_{\\theta}(z)] = \\mathbb{E}_{\\varepsilon \\sim q(\\varepsilon)}[\\nabla_{\\theta}f_{\\theta}(g_{\\theta}(\\varepsilon))] \n",
    "$$\n",
    "\n",
    "Proceeding as before, we can now construct an AD-based Monte Carlo estimator for the gradient of interest:\n",
    "\n",
    "$$\n",
    "\\nabla_{\\theta}\\mathbb{E}_{p_{\\theta}(z)}[f_{\\theta}(z)] \\approx \\frac{1}{m}\\sum^{m}_{i=1}\\nabla_{\\theta}f_{\\theta}(g_{\\theta}(\\varepsilon_{i})), \\quad \\varepsilon_{i} \\sim q\n",
    "$$\n",
    "\n",
    "This method of gradient computation is known as the [reparameterization trick](https://arxiv.org/pdf/1312.6114.pdf) within the machine learning community, and was originally exploited to train VAEs. Indirect sampling effectively *reparameterizes* the noise variable $z$ so that it not longer depends on the structural parameters $\\theta$.\n",
    "\n",
    "Let's study an example. Consider the following model:\n",
    "\n",
    "$$\n",
    "\\begin{align*}\n",
    "z \\sim \\mathcal N(\\theta, 4) \\\\\n",
    "y = \\theta^2 (4 + z)\n",
    "\\end{align*}\n",
    "$$\n",
    "\n",
    "We can reparameterize the noise variable $z$ using the standard normal distribution:\n",
    "\n",
    "$$\n",
    "\\begin{align*}\n",
    "\\varepsilon \\sim \\mathcal{N}(0, 1) \\\\\n",
    "y = \\theta^2 (4 + \\theta + 2\\varepsilon)\n",
    "\\end{align*}\n",
    "$$\n",
    "\n",
    "We can now compute the gradient:\n",
    "\n",
    "$$\n",
    "\\mathbb E_{\\epsilon \\sim \\mathcal N(0,1)}\\left[ \\nabla_\\theta \\theta^2 (4 + \\theta + 2\\epsilon )\\right ] =\\mathbb E_{\\epsilon \\sim \\mathcal N(0,1)}[8\\theta + 3\\theta^2 + 4\\theta\\epsilon] = 8\\theta + 3\\theta^2\n",
    "$$\n",
    "\n",
    "<!-- What have we accomplished with this? We have untangled the \"random\" part of the distribution from the part that depends on the parameters.\n",
    "This allows us to re-formulate (1) as\n",
    "\n",
    "$$\n",
    "\\nabla_\\theta\\mathbb E_{p_\\theta(z)} [f_\\theta(z)] = \\nabla_\\theta\\mathbb E_{p(\\varepsilon)}\\left[f(g_\\theta(\\varepsilon, x))\\right],\n",
    "$$\n",
    "\n",
    "where now we can move the gradient inside,\n",
    "\n",
    "$$\n",
    "\\nabla_\\theta\\mathbb E_{p(\\epsilon)}\\left[f(g_\\theta(\\epsilon, x))\\right] = \\mathbb E_{p(\\varepsilon)}\\left[\\nabla_\\theta f(g_\\theta(\\varepsilon, x))\\right].\n",
    "$$\n",
    "\n",
    "So we have been able to transform the gradient of the expectation to the expectation of the gradient. This can be computed provided that $f$ and $g$ are differentiable. This expectation can now be estiated by Monte Carlo,\n",
    "\n",
    "$$\n",
    "\\mathbb E_{p(\\epsilon)}\\left[\\nabla_\\theta f(g_\\theta(\\epsilon, x))\\right] \\approx \\frac{1}{N} \\sum_{i=1}^N \\nabla_\\theta f(g_\\theta(\\epsilon_i, x_i)).\n",
    "$$ -->\n",
    "\n",
    "<!-- Let's see an example. Consider the program with input $\\theta$\n",
    "\n",
    "$$\n",
    "\\begin{align*}\n",
    "z \\sim \\mathcal N(\\theta, 4) \\\\\n",
    "y = \\theta^2 (4 + z)\n",
    "\\end{align*}\n",
    "$$\n",
    "\n",
    "The expected answer is\n",
    "\n",
    "$$\n",
    "\\mathbb E_{\\epsilon \\sim \\mathcal N(0,1)}\\left[ \\nabla_\\theta \\theta^2 (4 + \\theta + 2\\epsilon )\\right ] =\\mathbb E_{\\epsilon \\sim \\mathcal N(0,1)}[8\\theta + 3\\theta^2 + 4\\theta\\epsilon] = 8\\theta + 3\\theta^2\n",
    "$$\n",
    "\n",
    "Let's first check both the parameterized and unreparameterized version: -->"
   ]
  },
  {
   "cell_type": "markdown",
   "metadata": {},
   "source": [
    "Let's now explore how the reparameterization trick is implemented in PyTorch. Below, we define two stochatsic programs. The program `f_torch_norep` implements the previous example without performing any explicit reparameterization by sampling $z$ directly from `torch.distributions.Normal(theta, 2.0)`. The program `f_torch` explicitly reparameterizes by first sampling from `torch.distributions.Normal(0,1)` and then constructing `z`. Let's plot the density of these two estimators."
   ]
  },
  {
   "cell_type": "code",
   "execution_count": 8,
   "metadata": {},
   "outputs": [],
   "source": [
    "def f_torch_norep(theta):\n",
    "    z = torch.distributions.Normal(theta, 2.0).sample()\n",
    "    return theta**2 * (z + 4)\n",
    "\n",
    "\n",
    "def f_torch(theta):\n",
    "    epsilon = torch.distributions.Normal(0, 1).sample()\n",
    "    z = theta + epsilon * 2\n",
    "    return theta**2 * (4 + z)\n",
    "\n",
    "\n",
    "rep_samples = []\n",
    "norep_samples = []\n",
    "n_samples = 2_000\n",
    "theta_value = 2.0\n",
    "analytical_result = 8 * theta_value + 3 * theta_value**2\n",
    "for i in range(n_samples):\n",
    "    theta = torch.tensor(theta_value, requires_grad=True)\n",
    "    f_torch_norep(theta).backward()\n",
    "    norep_samples.append(theta.grad.item())\n",
    "    theta = torch.tensor(theta_value, requires_grad=True)\n",
    "    f_torch(theta).backward()\n",
    "    rep_samples.append(theta.grad.item())"
   ]
  },
  {
   "cell_type": "code",
   "execution_count": 9,
   "metadata": {},
   "outputs": [
    {
     "data": {
      "text/plain": [
       "<matplotlib.legend.Legend at 0x17ecd80d0>"
      ]
     },
     "execution_count": 9,
     "metadata": {},
     "output_type": "execute_result"
    },
    {
     "data": {
      "image/png": "[encoded data removed]",
      "text/plain": [
       "<Figure size 640x480 with 1 Axes>"
      ]
     },
     "metadata": {},
     "output_type": "display_data"
    }
   ],
   "source": [
    "fig, ax = plt.subplots()\n",
    "ax.hist(\n",
    "    norep_samples,\n",
    "    bins=100,\n",
    "    alpha=0.35,\n",
    "    label=\"No Reparametrization\",\n",
    "    density=True,\n",
    "    color=\"C0\",\n",
    ")\n",
    "ax.hist(\n",
    "    rep_samples,\n",
    "    bins=100,\n",
    "    alpha=0.35,\n",
    "    label=\"Reparametrization\",\n",
    "    density=True,\n",
    "    color=\"C1\",\n",
    ")\n",
    "ax.axvline(\n",
    "    analytical_result,\n",
    "    color=\"black\",\n",
    "    linestyle=\"dashed\",\n",
    "    linewidth=1,\n",
    "    label=\"Expected derivative\",\n",
    ")\n",
    "ax.legend()"
   ]
  },
  {
   "cell_type": "markdown",
   "metadata": {},
   "source": [
    "As we can see, `f_torch` is an unbiased estimator of the analytical gradient as it explicitly employs the reparameterization trick. In contrast,`f_torch_norep` is biased. This is because `.sample()` does not implicitly perform the reparamterization trick. Instead, gradient propoagation stops at `.sample()`. Thankfully, PyTorch implements the shortcut function `.rsample` which implicitly performs the reparameterization trick for us so we do not need to implement it over and over again. Below we perform the reparameterization trick for our example implicitly via `.rsample`. Observe that an accurate estimate for the analytical gradient is returned.\n",
    "\n",
    "<!-- As we can see, we need to be careful, because PyTorch may not be applying the reparameterization trick and we may obtain the wrong results!!\n",
    "\n",
    "By calling `dist.sample()` the gradient propagation stops and so we obtain the wrong result. Thankfully, PyTorch has a shortcut to implement the reparameterization trick for us so we don't have to do it manually. This can be done by using the `.rsample()` method. -->"
   ]
  },
  {
   "cell_type": "code",
   "execution_count": 10,
   "metadata": {},
   "outputs": [
    {
     "name": "stdout",
     "output_type": "stream",
     "text": [
      "27.927927017211914 ~ 28.0\n"
     ]
    }
   ],
   "source": [
    "def f_torch(theta):\n",
    "    z = torch.distributions.Normal(theta, 2.0).rsample()\n",
    "    return theta**2 * (z + 4)\n",
    "\n",
    "\n",
    "rep = (\n",
    "    sum([torch.func.grad(f_torch)(torch.tensor(2.0)) for i in range(n_samples)])\n",
    "    / n_samples\n",
    ")\n",
    "print(f\"{rep} ~ {analytical_result}\")"
   ]
  },
  {
   "cell_type": "markdown",
   "metadata": {},
   "source": [
    "<!-- # A note on reinforcement learning\n",
    "\n",
    "Recall equation (1):\n",
    "\n",
    "$$\n",
    "\\nabla_\\theta\\mathbb E_{p_\\theta(z)} [f_\\theta(z)].\n",
    "$$\n",
    "\n",
    "There is an alternative way to re-express this gradient:\n",
    "\n",
    "$$\n",
    "\\begin{split}\n",
    "\\nabla_\\theta\\mathbb E_{p_\\theta(z)} [f_\\theta(z)] &= \\nabla_\\theta \\int p_\\theta(z) f_\\theta(z) \\mathrm{d} z \\\\\n",
    "&= \\int f(z) \\nabla_\\theta p(z) \\mathrm{d}z \\\\\n",
    "&= \\int p_\\theta(z) f_\\theta(z) \\nabla_\\theta \\log p_\\theta(z) \\mathrm{d} z \\\\\n",
    "&= \\mathbb E_{p_\\theta(z)}\\left[f(z) \\nabla_\\theta \\log p_\\theta(z)\\right]\n",
    "\\end{split}\n",
    "$$\n",
    "\n",
    "The familiar reader will recognize the last expression as the score-based estimator of the gradient, also known as REINFORCE in the RL community.\n",
    "The advantage of calculating the gradient this way, is that we only require the density $p$ to be differentiable, but we have no constraints on $f$. However, this gradient does not scale well for high dimensionality of $\\theta$, compared to the path-wise approach, since the variance scales with the dimension of $\\theta$. See [this reference](https://arxiv.org/abs/1906.10652) for an in-depth review. -->"
   ]
  },
  {
   "cell_type": "markdown",
   "metadata": {},
   "source": [
    "## Discrete Randomness"
   ]
  },
  {
   "cell_type": "markdown",
   "metadata": {},
   "source": [
    "The reparameterization trick assumes that a probability density can be reparameterised effectively with a smooth transform. This assumption holds for most of the continuous distributions we encounter in machine learning. Unfortunately, this assumption does not hold for Bernoulli and categorical distributions, which are frequently used in ABM implementations, since they are discrete. To differentiate through discrete distributions, we need to seek an alternative to the reparamterization trick.\n",
    "\n",
    "<!-- This is true for continuous distributions but it does not hold for discrete ones such as Bernoulli or Categorical distributions. -->\n",
    "\n",
    "Multiple methods have been proposed aiming to address this gap. These include surrogate gradient methods, such as the straight-through gradient estimator [(Bengio et al. 2013)](https://arxiv.org/abs/1308.3432), which replace discrete sample operations with a smooth approximation when applying the chain rule. More recent approaches include the Julia package [StochasticAD.jl](https://arxiv.org/abs/2210.08572), which leverages the theory of sample derivatives to efficiently compute unbiased pathwise gradient estimators. Unfortunately, we do not have time to cover all of these methods in detail. Instead will focus on one prominent method: the **Gumbel-Softmax (GS) trick** [(Jang et al. 2016)](https://arxiv.org/abs/1611.01144).\n",
    "\n",
    "One way to circumvent differentiability issues with a discrete distribution is to replace it with a continuous distribution that can be reparameterized. Of course, we should choose a continuous distribution that approximates the original distribution well so that gradients are informative. Consider the categorical distribution of $n$ categories with parameters $\\pi =(\\pi_{1}, \\dots, \\pi_{n})$. Here, $\\pi_{i}$ indicates the probability that category $i$ is sampled. How might we construct an appropriate continuous distribution in this case?\n",
    "\n",
    "It turns out that the categorical distribution is closely related to the Gumbel distribution. By exploiting the structure of the Gumbel distribution and basic properties of order statistics one can show that:\n",
    "\n",
    "$$ \\arg\\max_{i}(g_{i} + \\log\\pi_{i}) \\sim \\text{Cat}(\\pi), \\quad g_{i} \\sim \\text{Gumbel}(0)$$\n",
    "\n",
    " That is, we can reparameterize the categorical distribution using the Gumbel distribution. See [this paper](https://arxiv.org/abs/1411.0030) for the technical details. Unsurprisingly, this is known as the Gumbel-max trick. Unfortunately, this reparameterization is not differentiable as the $\\arg\\max$ function is not differentiable. To rectify this we can replace $\\arg\\max$ with a $\\text{softmax}$ operator, obtaining the Gumbel-Softmax distribution. \n",
    "$$ y_{i} = \\frac{\\exp((\\log\\pi_{i} + g_{i})/\\tau)}{\\sum_{j=1}^{n}\\exp((\\log\\pi_{j} + g_{j})/\\tau)}  \\quad g_{i} \\sim \\text{Gumbel}(0)$$\n",
    "\n",
    "Note that, when we apply the $\\text{softmax}$ operator, we also include a temperature parameter $\\tau > 0$. As we decrease $\\tau$, the GS distribution forms a better approximation of $\\text{Cat}(\\pi)$. In fact, one can show that as $\\tau \\to 0$, the GS distribution converges to $\\text{Cat}(\\pi)$. Unfortunately, the variance of gradient estimates increase rapidly as $\\tau \\to 0$. This is reminiscent of our experience with FD, where dividing by small values caused high variance. As a result, we face a **bias-variance trade-off** when setting $\\tau$.\n",
    "\n",
    "\n",
    "<!-- Multiple methods exist to deal with this issue, the most common ones being the Straight-Through estimator [(Bengio et al. 2013)](https://arxiv.org/abs/1308.3432) or the Gumbel-Softmax trick [(Jang et al. 2016)](https://arxiv.org/abs/1611.01144). Newer methods are continuously being developed such as the [StochasticAD.jl](https://arxiv.org/abs/2210.08572) package in the Julia language. -->\n",
    "\n",
    "<!-- Here, we focus on the Gumbel-Softmax (GS) trick.  -->\n",
    "\n",
    "<!-- The GS distribution is a continuous relaxation of the categorical distribution. The GS has a temperature parameter $\\tau$ which controls the smoothness of the approximation such that the exact Categorical sampling is recovered for $\\tau\\to 0$. However, the variance of the gradient will grow as $\\tau\\to 0$ so $\\tau$ acts as a bias-variance trade-off. -->\n",
    "\n",
    "PyTorch has a standard implementation of the GS estimator built in. In particular, PyTorch implements a *hard* version of the GS trick, which uses samples from $\\text{Cat}(\\pi)$ when performing the forward pass, but uses samples from the GS distribution during the backwards pass. By doing this, PyTorch guarantees that evaluations of the stochastic program are unaltered, whilst gradients can still be computed. In other words, GS samples are used as **surrogates** for categorical samples during the backwards pass in reverse-mode AD. This is particularly useful for ABMs which often use operations defined only on discrete values. With that being said, let's experiment with the GS trick in PyTorch!\n",
    "\n",
    "<!-- In particular, it implements a \"hard\" version of GS. The idea is that we can use the samples from the categorical distribution in the forward simulated pass, and use the continuous relaxation to approximate the gradients in the backward pass. This way we guarantee that the forward simulation is exactly equivalent to the non-relaxed version. -->\n",
    "\n",
    "Consider the following program:\n",
    "\n",
    "$$\n",
    "x = 2 \\mathrm{Bern}(3\\theta) + \\mathrm{Bern}(\\theta),\n",
    "$$\n",
    "\n",
    "where $\\text{Bern}$ denotes the Bernoulli distribution. We can easily compute the gradient of the expectation in this case:\n",
    "\n",
    "$$\n",
    "\\nabla_\\theta \\mathbb E [2 \\mathrm{Bernoulli}(3\\theta) + \\mathrm{Bernoulli}(\\theta)] = \\nabla_\\theta (6\\theta + \\theta) = 7\n",
    "$$\n",
    "\n",
    "Let's implement this program using the GS trick and investigate how the distribution of the gradient changes as we change the temperature."
   ]
  },
  {
   "cell_type": "code",
   "execution_count": 11,
   "metadata": {},
   "outputs": [],
   "source": [
    "def sample_bernoulli(theta, gs_tau):\n",
    "    logits = torch.cat([theta, 1 - theta]).log()\n",
    "    return torch.nn.functional.gumbel_softmax(logits=logits, tau=gs_tau, hard=True)\n",
    "\n",
    "\n",
    "def f(theta, gs_tau):\n",
    "    return 2 * sample_bernoulli(3 * theta, gs_tau) + sample_bernoulli(theta, gs_tau)"
   ]
  },
  {
   "cell_type": "code",
   "execution_count": 12,
   "metadata": {},
   "outputs": [],
   "source": [
    "n_samples = 1_000\n",
    "taus = [0.1, 0.5, 0.9]\n",
    "gradients_per_tau = {}\n",
    "for tau in taus:\n",
    "    gradients = []\n",
    "    for i in range(n_samples):\n",
    "        theta = torch.tensor([0.1], requires_grad=True)\n",
    "        f(theta, tau)[0].backward()\n",
    "        gradients.append(theta.grad.item())\n",
    "    gradients_per_tau[tau] = gradients"
   ]
  },
  {
   "cell_type": "code",
   "execution_count": 13,
   "metadata": {},
   "outputs": [
    {
     "data": {
      "text/plain": [
       "<matplotlib.legend.Legend at 0x17f86ac80>"
      ]
     },
     "execution_count": 13,
     "metadata": {},
     "output_type": "execute_result"
    },
    {
     "data": {
      "image/png": "[encoded data removed]",
      "text/plain": [
       "<Figure size 640x480 with 1 Axes>"
      ]
     },
     "metadata": {},
     "output_type": "display_data"
    }
   ],
   "source": [
    "fig, ax = plt.subplots()\n",
    "for i, (tau, gradients) in enumerate(gradients_per_tau.items()):\n",
    "    ax.boxplot(gradients, showmeans=True, positions=[i], labels=[f\"$\\\\tau={tau}$\"], showfliers=False)\n",
    "ax.axhline(7, color=\"blue\", linestyle=\"dashed\", linewidth=1, label=\"Expected gradient\")\n",
    "ax.legend()"
   ]
  },
  {
   "cell_type": "markdown",
   "metadata": {},
   "source": [
    "The mean of each gradient distribution is denoted by the green triangle. As we would expect, using a low temperature, such as $\\tau=0.1$, leads to exceptionally high variance, but very low bias. In contrast, by using a higher temperature, such as $\\tau = 0.9$, we obtain a low varaince estimator which is more biased."
   ]
  },
  {
   "cell_type": "markdown",
   "metadata": {},
   "source": [
    "## Other Resources\n",
    "\n",
    "To finish, we would like to highlight some relevant literature that is worth checking out if you want to learn more about applying AD in stochastic or discrete settings. \n",
    "\n",
    "- The book [\"The Elements of Differentiable Programming\"](https://arxiv.org/abs/2403.14606) is a fantastic resource detailing how a wide range of operations can be made differentiable. For instance, the book covers differentiable dictionaries and their connection to attention, as well as how to differentiate through optimisation problems.\n",
    "- The book [\"Discrete Latent Structure in Neural Networks\"](https://arxiv.org/abs/2301.07473) has a similar flavour. In particular, the book throroughly covers surrogate gradients and smooth relaxations of the $\\arg\\max$ operator.\n",
    "- The paper [\"Monte Carlo Gradient Estimation in Machine Learning\"](https://arxiv.org/abs/1906.10652) is a seminal paper that provides a broad overview of Monte Carlo gradient estimation, especially for settings with continuous densities.\n",
    "- The papers \"[A\\* star sampling](https://arxiv.org/abs/1411.0030)\" (by Maddison, Tarlow and Minka) and [\"Categorical Reparameterisation with Gumbel-Softmax\"](https://arxiv.org/abs/1611.01144) (by Jang, Gu and Poole) are fantastic resources to learn more about the GS trick.\n",
    "- The technical report [\"Stochastic Gradient Estimation\"](https://apps.dtic.mil/sti/tr/pdf/ADA438511.pdf) (by Michael Fu) provides a computational perspective on differentiation from the viewpoint of discrete event systems. In particular, the report covers FD in great detail. The report also covers smoothed perturbation analysis (SPA), which combines the theory of sample derivatives with conditonal expectations to derive gradient estimators.\n",
    "- The paper [\"Automatic Differentiation with Discrete Randomness\"](https://arxiv.org/abs/2210.08572) (by Arya, Schauer, Rakauckas) covers the theory behind StochasticAD.jl, which effectively combines ideas from SPA and AD to differentiate through discrete distributions. The authors have also written some [lecture notes](https://ocw.mit.edu/courses/18-s096-matrix-calculus-for-machine-learning-and-beyond-january-iap-2023/mit18_s096iap23_lec7.pdf) that may be more palatable to first time readers.\n",
    "\n",
    "Be sure to check out the next notebook, where we will apply what we have learned so far to build a differentiable ABM!\n"
   ]
  },
  {
   "cell_type": "markdown",
   "metadata": {},
   "source": []
  }
 ],
 "metadata": {
  "kernelspec": {
   "display_name": "dev",
   "language": "python",
   "name": "python3"
  },
  "language_info": {
   "codemirror_mode": {
    "name": "ipython",
    "version": 3
   },
   "file_extension": ".py",
   "mimetype": "text/x-python",
   "name": "python",
   "nbconvert_exporter": "python",
   "pygments_lexer": "ipython3",
   "version": "3.10.9"
  }
 },
 "nbformat": 4,
 "nbformat_minor": 2
}
